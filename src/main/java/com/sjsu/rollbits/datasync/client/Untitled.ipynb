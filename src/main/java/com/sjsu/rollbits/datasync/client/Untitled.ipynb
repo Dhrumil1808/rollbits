{
 "cells": [
  {
   "cell_type": "code",
   "execution_count": 6,
   "metadata": {},
   "outputs": [
    {
     "data": {
      "text/plain": [
       "'00:00'"
      ]
     },
     "execution_count": 6,
     "metadata": {},
     "output_type": "execute_result"
    }
   ],
   "source": [
    "def nextClosestTime(time):\n",
    "    ctime = time[0:2] + time[3:5] # split time into an array of chars\n",
    "    d = sorted(list(set(ctime))) # sorted list of unique digits\n",
    "    i = list(map(d.index, ctime)) # indexes of digits in time\n",
    "    n = len(d) # number of digits\n",
    "    i[3] += 1 \n",
    "    if i[3] >= n:\n",
    "        i[3] = 0\n",
    "        i[2] += 1\n",
    "        if i[2] >= n or d[i[2]] >= '6':\n",
    "            i[2] = 0\n",
    "            i[1] += 1\n",
    "            if i[1] >= n or d[i[0]] == '2' and d[i[1]] >= '4':\n",
    "                i[1] = 0\n",
    "                i[0] += 1\n",
    "                if i[0] >= n or i[1] >= n or d[i[0]] >= '3' or d[i[0]] == '2' and d[i[1]] >= '4':\n",
    "                    i[0] = 0\n",
    "                    \n",
    "    return d[i[0]] + d[i[1]] + ':' + d[i[2]] + d[i[3]]\n",
    "\n",
    "nextClosestTime(\"00:00\")"
   ]
  },
  {
   "cell_type": "code",
   "execution_count": 12,
   "metadata": {},
   "outputs": [
    {
     "data": {
      "text/plain": [
       "'11:01'"
      ]
     },
     "execution_count": 12,
     "metadata": {},
     "output_type": "execute_result"
    }
   ],
   "source": [
    "# 62 / 62 test cases passed.\n",
    "# Status: Accepted\n",
    "# Runtime: 42 ms\n",
    "def nextClosestTime(time):\n",
    "    num1 = int(time[0])\n",
    "    num2 = int(time[1])\n",
    "    num3 = int(time[3])\n",
    "    num4 = int(time[4])\n",
    "    rank = [num1,num2,num3,num4]\n",
    "    rank = sorted(rank)\n",
    "\n",
    "    def h(a, cur):\n",
    "        res = 0\n",
    "        for i in range(len(a)):\n",
    "            if a[i] == cur:\n",
    "                res = i\n",
    "        return res\n",
    "    if num4 < rank[3]: \n",
    "        return str(num1)+str(num2)+\":\"+str(num3)+str(rank[h(rank, num4)+1])\n",
    "    ind3 = h(rank, num3)\n",
    "    if ind3 < 3: \n",
    "        cur = rank[ind3+1]\n",
    "        if cur < 6:  return str(num1)+str(num2)+\":\"+str(cur)+str(rank[0])\n",
    "\n",
    "    ind2 = h(rank, num2)\n",
    "    if ind2 < 3:\n",
    "        if num1 == 2:\n",
    "            cur = rank[ind2+1]\n",
    "            if cur < 4:\n",
    "                return str(num1)+str(cur)+\":\"+str(rank[0])+str(rank[0])\n",
    "        else:\n",
    "            cur = rank[ind2+1]\n",
    "            return str(num1)+str(cur)+\":\"+str(rank[0])+str(rank[0])\n",
    "    ind1 = h(rank,num1)\n",
    "    if ind1 < 3:\n",
    "        cur = rank[ind1 + 1]\n",
    "        if cur < 3:\n",
    "            return str(cur)+str(rank[0])+\":\"+str(rank[0])+str(rank[0])\n",
    "\n",
    "    return str(rank[0])+str(rank[0])+\":\"+str(rank[0])+str(rank[0])\n",
    "\n",
    "nextClosestTime(\"11:00\")"
   ]
  },
  {
   "cell_type": "code",
   "execution_count": 18,
   "metadata": {},
   "outputs": [
    {
     "name": "stdout",
     "output_type": "stream",
     "text": [
      "4\n",
      "8\n",
      "8\n"
     ]
    },
    {
     "data": {
      "text/plain": [
       "2"
      ]
     },
     "execution_count": 18,
     "metadata": {},
     "output_type": "execute_result"
    }
   ],
   "source": [
    "def kEmptySlots(flowers, k):\n",
    "        tree = [0]*(len(flowers)+1)\n",
    "        maxVal = len(flowers)\n",
    "        def update(idx,val):\n",
    "            while idx <= maxVal:\n",
    "                tree[idx] += val\n",
    "                idx += (idx & -idx)\n",
    "                print idx\n",
    "        def read(idx):\n",
    "            sum = 0\n",
    "            while idx > 0:\n",
    "                sum += tree[idx]\n",
    "                idx -= (idx&-idx)\n",
    "            return sum\n",
    "        d = dict()\n",
    "        for i,v in enumerate(flowers):\n",
    "            update(v,1)\n",
    "            if v - k - 1 in d:\n",
    "                if read(v)-read(v-k-1) == 1:\n",
    "                    return i+1\n",
    "            if v + k + 1 in d:\n",
    "                if read(v+k+1) - read(v) == 1:\n",
    "                    return i+1\n",
    "            d[v] = True\n",
    "        return -1\n",
    "    \n",
    "kEmptySlots([2,4,3,1,5],1)    "
   ]
  },
  {
   "cell_type": "code",
   "execution_count": 19,
   "metadata": {
    "collapsed": true
   },
   "outputs": [],
   "source": [
    "class BITree(object):\n",
    "    def __init__(self, n):\n",
    "        self.node = [0 for _ in range(n + 1)]\n",
    "    \n",
    "    def getSum(self, index):\n",
    "        index += 1\n",
    "        result = 0\n",
    "        while index > 0:\n",
    "            result += self.node[index]\n",
    "            index -= index & -index\n",
    "        return result\n",
    "    \n",
    "    def update(self, index, d):\n",
    "        index += 1\n",
    "        while index < len(self.node):\n",
    "            self.node[index] += d\n",
    "            index += index & -index\n",
    "            \n",
    "class Solution(object):\n",
    "    def kEmptySlots(self, flowers, k):\n",
    "        \"\"\"\n",
    "        :type flowers: List[int]\n",
    "        :type k: int\n",
    "        :rtype: int\n",
    "        \"\"\"\n",
    "        bitree = BITree(len(flowers))\n",
    "        bloomed = set()        \n",
    "        for day, index in enumerate(flowers):\n",
    "            index -= 1\n",
    "            if index - k - 1 in bloomed and bitree.getSum(index) == bitree.getSum(index - k - 1):\n",
    "                return day + 1\n",
    "            elif index + k + 1 in bloomed and bitree.getSum(index) + 1 == bitree.getSum(index + k + 1):\n",
    "                return day + 1\n",
    "            else:\n",
    "                bloomed.add(index)\n",
    "                bitree.update(index, 1)\n",
    "        return -1"
   ]
  },
  {
   "cell_type": "code",
   "execution_count": 49,
   "metadata": {},
   "outputs": [
    {
     "name": "stdout",
     "output_type": "stream",
     "text": [
      "1\n",
      "4\n",
      "1\n",
      "2\n",
      "1\n",
      "set([2])\n",
      "1\n",
      "0\n",
      "0\n",
      "2\n",
      "set([2, 4])\n",
      "3\n",
      "1\n",
      "0\n",
      "3\n"
     ]
    },
    {
     "ename": "IndexError",
     "evalue": "list index out of range",
     "output_type": "error",
     "traceback": [
      "\u001b[0;31m---------------------------------------------------------------------------\u001b[0m",
      "\u001b[0;31mIndexError\u001b[0m                                Traceback (most recent call last)",
      "\u001b[0;32m<ipython-input-49-8a0165b5174d>\u001b[0m in \u001b[0;36m<module>\u001b[0;34m()\u001b[0m\n\u001b[1;32m     50\u001b[0m \u001b[0;34m\u001b[0m\u001b[0m\n\u001b[1;32m     51\u001b[0m \u001b[0;34m\u001b[0m\u001b[0m\n\u001b[0;32m---> 52\u001b[0;31m \u001b[0mkEmptySlots\u001b[0m\u001b[0;34m(\u001b[0m\u001b[0;34m[\u001b[0m\u001b[0;36m2\u001b[0m\u001b[0;34m,\u001b[0m\u001b[0;36m4\u001b[0m\u001b[0;34m,\u001b[0m\u001b[0;36m1\u001b[0m\u001b[0;34m,\u001b[0m\u001b[0;36m3\u001b[0m\u001b[0;34m]\u001b[0m\u001b[0;34m,\u001b[0m\u001b[0;36m3\u001b[0m\u001b[0;34m)\u001b[0m\u001b[0;34m\u001b[0m\u001b[0m\n\u001b[0m",
      "\u001b[0;32m<ipython-input-49-8a0165b5174d>\u001b[0m in \u001b[0;36mkEmptySlots\u001b[0;34m(flowers, k)\u001b[0m\n\u001b[1;32m     38\u001b[0m         \u001b[0;32mif\u001b[0m \u001b[0mindex\u001b[0m \u001b[0;34m-\u001b[0m \u001b[0mk\u001b[0m \u001b[0;34m-\u001b[0m \u001b[0;36m1\u001b[0m \u001b[0;32min\u001b[0m \u001b[0mbloomed\u001b[0m \u001b[0;32mand\u001b[0m \u001b[0mbitree\u001b[0m\u001b[0;34m.\u001b[0m\u001b[0mgetSum\u001b[0m\u001b[0;34m(\u001b[0m\u001b[0mindex\u001b[0m\u001b[0;34m)\u001b[0m \u001b[0;34m==\u001b[0m \u001b[0mbitree\u001b[0m\u001b[0;34m.\u001b[0m\u001b[0mgetSum\u001b[0m\u001b[0;34m(\u001b[0m\u001b[0mindex\u001b[0m \u001b[0;34m-\u001b[0m \u001b[0mk\u001b[0m \u001b[0;34m-\u001b[0m \u001b[0;36m1\u001b[0m\u001b[0;34m)\u001b[0m\u001b[0;34m:\u001b[0m\u001b[0;34m\u001b[0m\u001b[0m\n\u001b[1;32m     39\u001b[0m             \u001b[0;32mreturn\u001b[0m \u001b[0mday\u001b[0m \u001b[0;34m+\u001b[0m \u001b[0;36m1\u001b[0m\u001b[0;34m\u001b[0m\u001b[0m\n\u001b[0;32m---> 40\u001b[0;31m         \u001b[0;32melif\u001b[0m \u001b[0mindex\u001b[0m \u001b[0;34m+\u001b[0m \u001b[0mk\u001b[0m \u001b[0;34m+\u001b[0m \u001b[0;36m1\u001b[0m \u001b[0;32min\u001b[0m \u001b[0mbloomed\u001b[0m \u001b[0;32mand\u001b[0m \u001b[0mbitree\u001b[0m\u001b[0;34m.\u001b[0m\u001b[0mgetSum\u001b[0m\u001b[0;34m(\u001b[0m\u001b[0mindex\u001b[0m\u001b[0;34m)\u001b[0m \u001b[0;34m+\u001b[0m \u001b[0;36m1\u001b[0m \u001b[0;34m==\u001b[0m \u001b[0mbitree\u001b[0m\u001b[0;34m.\u001b[0m\u001b[0mgetSum\u001b[0m\u001b[0;34m(\u001b[0m\u001b[0mindex\u001b[0m \u001b[0;34m+\u001b[0m \u001b[0mk\u001b[0m \u001b[0;34m+\u001b[0m \u001b[0;36m1\u001b[0m\u001b[0;34m)\u001b[0m\u001b[0;34m:\u001b[0m\u001b[0;34m\u001b[0m\u001b[0m\n\u001b[0m\u001b[1;32m     41\u001b[0m             \u001b[0;32mreturn\u001b[0m \u001b[0mday\u001b[0m \u001b[0;34m+\u001b[0m \u001b[0;36m1\u001b[0m\u001b[0;34m\u001b[0m\u001b[0m\n\u001b[1;32m     42\u001b[0m         \u001b[0;32melse\u001b[0m\u001b[0;34m:\u001b[0m\u001b[0;34m\u001b[0m\u001b[0m\n",
      "\u001b[0;32m<ipython-input-19-672096c67cba>\u001b[0m in \u001b[0;36mgetSum\u001b[0;34m(self, index)\u001b[0m\n\u001b[1;32m      7\u001b[0m         \u001b[0mresult\u001b[0m \u001b[0;34m=\u001b[0m \u001b[0;36m0\u001b[0m\u001b[0;34m\u001b[0m\u001b[0m\n\u001b[1;32m      8\u001b[0m         \u001b[0;32mwhile\u001b[0m \u001b[0mindex\u001b[0m \u001b[0;34m>\u001b[0m \u001b[0;36m0\u001b[0m\u001b[0;34m:\u001b[0m\u001b[0;34m\u001b[0m\u001b[0m\n\u001b[0;32m----> 9\u001b[0;31m             \u001b[0mresult\u001b[0m \u001b[0;34m+=\u001b[0m \u001b[0mself\u001b[0m\u001b[0;34m.\u001b[0m\u001b[0mnode\u001b[0m\u001b[0;34m[\u001b[0m\u001b[0mindex\u001b[0m\u001b[0;34m]\u001b[0m\u001b[0;34m\u001b[0m\u001b[0m\n\u001b[0m\u001b[1;32m     10\u001b[0m             \u001b[0mindex\u001b[0m \u001b[0;34m-=\u001b[0m \u001b[0mindex\u001b[0m \u001b[0;34m&\u001b[0m \u001b[0;34m-\u001b[0m\u001b[0mindex\u001b[0m\u001b[0;34m\u001b[0m\u001b[0m\n\u001b[1;32m     11\u001b[0m         \u001b[0;32mreturn\u001b[0m \u001b[0mresult\u001b[0m\u001b[0;34m\u001b[0m\u001b[0m\n",
      "\u001b[0;31mIndexError\u001b[0m: list index out of range"
     ]
    }
   ],
   "source": [
    "def getSum(index):\n",
    "    index += 1\n",
    "    result = 0\n",
    "    while index > 0:\n",
    "        result += self.node[index]\n",
    "        index -= index & -index\n",
    "    return result\n",
    "\n",
    "def update(index, d):\n",
    "    index += 1\n",
    "    while index < len(self.node):\n",
    "        self.node[index] += d\n",
    "        index += index & -index\n",
    "\n",
    "def kEmptySlots(flowers, k):\n",
    "    \"\"\"\n",
    "    :type flowers: List[int]\n",
    "    :type k: int\n",
    "    :rtype: int\n",
    "    \"\"\"\n",
    "    bitree = BITree(len(flowers))\n",
    "    bloomed = set()   \n",
    "    count=0\n",
    "    for day, index in enumerate(flowers):\n",
    "        count += 1\n",
    "        print count\n",
    "        index -= 1\n",
    "        if count == 1:\n",
    "            print len(flowers)\n",
    "            print index\n",
    "            higher = len(flowers)-index-1\n",
    "            print higher\n",
    "            lower = index \n",
    "            print lower\n",
    "            if higher==k or lower==k:\n",
    "                return day + 1\n",
    "            \n",
    "        if index - k - 1 in bloomed and bitree.getSum(index) == bitree.getSum(index - k - 1):\n",
    "            return day + 1\n",
    "        elif index + k + 1 in bloomed and bitree.getSum(index) + 1 == bitree.getSum(index + k + 1):\n",
    "            return day + 1\n",
    "        else:\n",
    "            bloomed.add(index+1)\n",
    "            print bloomed\n",
    "            print index\n",
    "            print bitree.getSum(index)\n",
    "            print bitree.getSum(index-k-1)\n",
    "            bitree.update(index, 1)\n",
    "    return -1\n",
    "    \n",
    "\n",
    "kEmptySlots([2,4,1,3],3)"
   ]
  },
  {
   "cell_type": "code",
   "execution_count": null,
   "metadata": {
    "collapsed": true
   },
   "outputs": [],
   "source": []
  }
 ],
 "metadata": {
  "kernelspec": {
   "display_name": "Python 2",
   "language": "python",
   "name": "python2"
  },
  "language_info": {
   "codemirror_mode": {
    "name": "ipython",
    "version": 2
   },
   "file_extension": ".py",
   "mimetype": "text/x-python",
   "name": "python",
   "nbconvert_exporter": "python",
   "pygments_lexer": "ipython2",
   "version": "2.7.13"
  }
 },
 "nbformat": 4,
 "nbformat_minor": 2
}
